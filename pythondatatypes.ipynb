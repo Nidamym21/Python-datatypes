{
 "cells": [
  {
   "cell_type": "markdown",
   "id": "f1ff74fd-b119-4fb2-8fc4-0c43c7b72601",
   "metadata": {},
   "source": [
    "# Datatypes in Python\n",
    "\n",
    "- In Python, data types are the kinds of values that you can work with in a program.\n",
    "\n",
    " \n",
    "- They help you understand what operations can be performed on the data."
   ]
  },
  {
   "cell_type": "markdown",
   "id": "bc5c59f0-c3d6-4629-bf2b-bc90fe5fb121",
   "metadata": {},
   "source": [
    "# Types of data types\n",
    "They are two types of data types:\n",
    "\n",
    "## Basic data types\n",
    "- Int\n",
    "  \n",
    "- Float\n",
    "\n",
    "- Boolean\n",
    "\n",
    "- Complex\n",
    "\n",
    "## Advanced data types\n",
    "- String\n",
    "  \n",
    "- List\n",
    "\n",
    "- Tuple\n",
    "\n",
    "- Dictionary\n",
    "\n",
    "- Set\n",
    "\n",
    "\n",
    "\n",
    "\n"
   ]
  },
  {
   "cell_type": "markdown",
   "id": "fed35c00-aa46-4e4d-ae24-6dd345363f51",
   "metadata": {},
   "source": [
    "# Basic Data Types\n",
    "\n",
    "\n",
    "\r\n",
    "1. **`int`**: Represents integer numbers. \r\n",
    "   - Example: `5`, `-3`, `42`.\r\n",
    "\r\n",
    "2. **`float`**: Represents floating-point (decimal) numbers. \r\n",
    "   - Example: `3.14`, `-0.001`, `2.718`.\r\n",
    "\r\n",
    "3. **`bool`**: Represents boolean values, which can be either `True` or `False`. \r\n",
    "   - Example: `True`, `False`.\r\n",
    "\r\n",
    "4. **`complex`**: Represents complex numbers, which have a real and an imaginary part. \r\n",
    "   - Example: `3 + 4j`, where `3` is the real part and `4j` is the imaginary part.\r\n"
   ]
  },
  {
   "cell_type": "markdown",
   "id": "337f078b-90b8-4f1a-83d8-e554ff7485aa",
   "metadata": {},
   "source": [
    "## Examples of int"
   ]
  },
  {
   "cell_type": "code",
   "execution_count": 19,
   "id": "3fdc75d0-d62e-4559-9a95-b9dbf7b333e5",
   "metadata": {},
   "outputs": [
    {
     "name": "stdout",
     "output_type": "stream",
     "text": [
      "10\n"
     ]
    },
    {
     "data": {
      "text/plain": [
       "int"
      ]
     },
     "execution_count": 19,
     "metadata": {},
     "output_type": "execute_result"
    }
   ],
   "source": [
    "a = 10\n",
    "print(a)\n",
    "type(a)\n"
   ]
  },
  {
   "cell_type": "code",
   "execution_count": 26,
   "id": "010f95e7-bfab-4d59-82ac-54a8a3138dbc",
   "metadata": {},
   "outputs": [
    {
     "name": "stdout",
     "output_type": "stream",
     "text": [
      "-6\n",
      "88\n",
      "15\n",
      "50\n",
      "27\n",
      "175\n",
      "65\n",
      "12000\n",
      "-10\n",
      "3\n"
     ]
    }
   ],
   "source": [
    "\n",
    "David = -6\n",
    "print(David)\n",
    "\n",
    "score = 88\n",
    "print(score)\n",
    "\n",
    "count = 15\n",
    "print(count)\n",
    "\n",
    "total = 50\n",
    "print(total)\n",
    "\n",
    "age = 27\n",
    "print(age)\n",
    "\n",
    "height = 175\n",
    "print(height)\n",
    "\n",
    "weight = 65\n",
    "print(weight)\n",
    "\n",
    "steps = 12000\n",
    "print(steps)\n",
    "\n",
    "temperature = -10\n",
    "print(temperature)\n",
    "\n",
    "rank = 3\n",
    "print(rank)\n"
   ]
  },
  {
   "cell_type": "markdown",
   "id": "b2b5f5fd-0e61-4353-99c1-c889484b8443",
   "metadata": {},
   "source": [
    "##  Examples of float\n"
   ]
  },
  {
   "cell_type": "code",
   "execution_count": 22,
   "id": "dc8d9012-37d6-4e4e-b834-d9e42ccd756a",
   "metadata": {},
   "outputs": [
    {
     "name": "stdout",
     "output_type": "stream",
     "text": [
      "19.99\n",
      "-5.6\n",
      "176.5\n",
      "10.2\n",
      "7.25\n",
      "55.75\n",
      "0.001\n",
      "4.8\n",
      "3.67\n",
      "123.45\n"
     ]
    }
   ],
   "source": [
    "\n",
    "price = 19.99\n",
    "print(price)\n",
    "\n",
    "temperature = -5.6\n",
    "print(temperature)\n",
    "\n",
    "height = 176.5\n",
    "print(height)\n",
    "\n",
    "distance = 10.2\n",
    "print(distance)\n",
    "\n",
    "rate = 7.25\n",
    "print(rate)\n",
    "\n",
    "weight = 55.75\n",
    "print(weight)\n",
    "\n",
    "volume = 0.001\n",
    "print(volume)\n",
    "\n",
    "average = 4.8\n",
    "print(average)\n",
    "\n",
    "gpa = 3.67\n",
    "print(gpa)\n",
    "\n",
    "amount = 123.45\n",
    "print(amount)\n"
   ]
  },
  {
   "cell_type": "markdown",
   "id": "d0f7618b-6395-4abb-90ab-b05af10bd4d2",
   "metadata": {},
   "source": [
    "## Examples of boolean"
   ]
  },
  {
   "cell_type": "code",
   "execution_count": 27,
   "id": "11bb829d-638c-4374-af81-b87754a3b75f",
   "metadata": {},
   "outputs": [
    {
     "name": "stdout",
     "output_type": "stream",
     "text": [
      "True\n",
      "<class 'bool'>\n",
      "True\n",
      "<class 'bool'>\n",
      "False\n",
      "<class 'bool'>\n",
      "True\n",
      "<class 'bool'>\n",
      "True\n",
      "<class 'bool'>\n",
      "False\n",
      "<class 'bool'>\n",
      "True\n",
      "<class 'bool'>\n",
      "True\n",
      "<class 'bool'>\n",
      "True\n",
      "<class 'bool'>\n",
      "False\n",
      "<class 'bool'>\n"
     ]
    }
   ],
   "source": [
    "\n",
    "print(10 > 2)\n",
    "print(type(10 > 2))\n",
    "\n",
    "print(3 < 4)\n",
    "print(type(3 < 4))\n",
    "\n",
    "print(84 < 25)\n",
    "print(type(84 < 25))\n",
    "\n",
    "print(5 == 5)\n",
    "print(type(5 == 5))\n",
    "\n",
    "print(7 != 8)\n",
    "print(type(7 != 8))\n",
    "\n",
    "print(6 > 6)\n",
    "print(type(6 > 6))\n",
    "\n",
    "print(10 >= 10)\n",
    "print(type(10 >= 10))\n",
    "\n",
    "print(-3 < 0)\n",
    "print(type(-3 < 0))\n",
    "\n",
    "print(2 + 2 == 4)\n",
    "print(type(2 + 2 == 4))\n",
    "\n",
    "print(15 < 5)\n",
    "print(type(15 < 5))\n"
   ]
  },
  {
   "cell_type": "markdown",
   "id": "131cc7fc-0a80-47ef-abe4-6988949dccab",
   "metadata": {},
   "source": [
    "## Examples of Complex"
   ]
  },
  {
   "cell_type": "code",
   "execution_count": 31,
   "id": "43e6764f-eaf6-4c2d-95d5-09619a704075",
   "metadata": {},
   "outputs": [
    {
     "name": "stdout",
     "output_type": "stream",
     "text": [
      "(5+6j)\n",
      "<class 'complex'>\n",
      "(-1-4j)\n",
      "<class 'complex'>\n",
      "1j\n",
      "<class 'complex'>\n",
      "(5+0j)\n",
      "<class 'complex'>\n",
      "(-2+3j)\n",
      "<class 'complex'>\n",
      "(7-6j)\n",
      "<class 'complex'>\n",
      "(8+8j)\n",
      "<class 'complex'>\n",
      "(-9-2j)\n",
      "<class 'complex'>\n",
      "(4+5j)\n",
      "<class 'complex'>\n",
      "(1-7j)\n",
      "<class 'complex'>\n"
     ]
    }
   ],
   "source": [
    "\n",
    "y = 5 + 6j\n",
    "print(y)\n",
    "print(type(y))\n",
    "\n",
    "z = -1 - 4j\n",
    "print(z)\n",
    "print(type(z))\n",
    "\n",
    "w = 0 + 1j\n",
    "print(w)\n",
    "print(type(w))\n",
    "\n",
    "u = 5 + 0j\n",
    "print(u)\n",
    "print(type(u))\n",
    "\n",
    "v = -2 + 3j\n",
    "print(v)\n",
    "print(type(v))\n",
    "\n",
    "t = 7 - 6j\n",
    "print(t)\n",
    "print(type(t))\n",
    "\n",
    "s = 8 + 8j\n",
    "print(s)\n",
    "print(type(s))\n",
    "\n",
    "r = -9 - 2j\n",
    "print(r)\n",
    "print(type(r))\n",
    "\n",
    "q = 4 + 5j\n",
    "print(q)\n",
    "print(type(q))\n",
    "\n",
    "p = 1 - 7j\n",
    "print(p)\n",
    "print(type(p))\n"
   ]
  },
  {
   "cell_type": "code",
   "execution_count": null,
   "id": "2f06edc6-d63b-4f99-a227-539c405a1de7",
   "metadata": {},
   "outputs": [],
   "source": []
  }
 ],
 "metadata": {
  "kernelspec": {
   "display_name": "Python 3 (ipykernel)",
   "language": "python",
   "name": "python3"
  },
  "language_info": {
   "codemirror_mode": {
    "name": "ipython",
    "version": 3
   },
   "file_extension": ".py",
   "mimetype": "text/x-python",
   "name": "python",
   "nbconvert_exporter": "python",
   "pygments_lexer": "ipython3",
   "version": "3.12.4"
  }
 },
 "nbformat": 4,
 "nbformat_minor": 5
}
